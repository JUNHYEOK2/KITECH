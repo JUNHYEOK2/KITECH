{
 "cells": [
  {
   "cell_type": "code",
   "execution_count": 1,
   "metadata": {},
   "outputs": [],
   "source": [
    "import matplotlib as plt"
   ]
  },
  {
   "cell_type": "code",
   "execution_count": null,
   "metadata": {},
   "outputs": [],
   "source": [
    "tfont = {'fontname':'Times New Roman',\n",
    "         'fontsize':25,\n",
    "         'style':'italic',\n",
    "         'fontweight':'bold'} # title font\n",
    "\n",
    "lfont = {'fontname':'Times New Roman',\n",
    "         'fontsize':25, \n",
    "         'style':'italic',\n",
    "         'fontweight':'bold'} # ylabel, xlabel font\n",
    "\n",
    "plt.figure(figsize=(25,150), dpi=30)\n",
    "plt.rcParams['font.family'] = 'Times New Roman' # rcParams -> 앞으로 생성되는 plot의 default parameter 변경 \n",
    "plt.rcParams['font.size'] = 25\n",
    "plt.rcParams['font.style'] = 'italic'\n",
    "fig,ax = plt.subplots(5, 1, constrained_layout = True, figsize=(12,26)) # 5행 1열로 한꺼번에 plot 붙여서 생성\n",
    "\n",
    "ax[0].plot(exp_1_2['DTW dist'].iloc[0:7], color = 'r')\n",
    "ax[0].plot(exp_1_2['DTW dist'].iloc[0:7], color = 'g')\n",
    "ax[0].plot(exp_1_2['DTW dist'].iloc[0:7], color = 'b')\n",
    "ax[0].set_title('DTW Dist (DAQ-Spindle-C-R)', **tfont)\n",
    "ax[0].set_ylabel(r'distance', **lfont)\n",
    "ax[0].legend(['exp 1&2', 'exp 1&3', 'exp 2&3'])\n",
    "ax[0].tick_params(labelrotation=35, labelsize=20) # 눈금에 있는 label option\n",
    "ax[0].grid() # 격자 그리기 \n",
    "\n",
    "fig.savefig('dtw dist.svg') # 그림 파일로 저장 (os.chdir로 절대 경로 설정 후 저장 필요)"
   ]
  },
  {
   "cell_type": "code",
   "execution_count": null,
   "metadata": {},
   "outputs": [],
   "source": []
  }
 ],
 "metadata": {
  "kernelspec": {
   "display_name": "base",
   "language": "python",
   "name": "python3"
  },
  "language_info": {
   "codemirror_mode": {
    "name": "ipython",
    "version": 3
   },
   "file_extension": ".py",
   "mimetype": "text/x-python",
   "name": "python",
   "nbconvert_exporter": "python",
   "pygments_lexer": "ipython3",
   "version": "3.10.9"
  },
  "orig_nbformat": 4
 },
 "nbformat": 4,
 "nbformat_minor": 2
}
